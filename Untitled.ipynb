{
 "cells": [
  {
   "attachments": {},
   "cell_type": "markdown",
   "id": "5415619a",
   "metadata": {},
   "source": [
    "Check for Compactness <br>\n",
    "For standard I-shapes and Channels"
   ]
  },
  {
   "cell_type": "code",
   "execution_count": 13,
   "id": "471dcda7",
   "metadata": {},
   "outputs": [
    {
     "name": "stdout",
     "output_type": "stream",
     "text": [
      "lambda = 7.9375\n",
      "lambdaP = 1343.5028842544402\n",
      "lambdar = 3535.5339059327375\n",
      "Section is Compact\n"
     ]
    }
   ],
   "source": [
    "import math \n",
    "\n",
    "def lamba(bf,tf):\n",
    "    output = bf/(2*tf)\n",
    "    return output\n",
    "\n",
    "def lambaP(E,fy):\n",
    "    output = 0.38*math.sqrt(E/fy)\n",
    "    return output\n",
    "\n",
    "def lambaR(E,fy):\n",
    "    output = 1.0*math.sqrt(E/fy)\n",
    "    return output\n",
    "\n",
    "def checkCompactness(bf,tf,E,fy):\n",
    "    check1 = lamba(bf,tf)\n",
    "    check2 = lambaP(E,fy)\n",
    "    check3 = lambaR(E,fy)\n",
    "    print(\"lambda = \" + str(check1))\n",
    "    print(\"lambdaP = \" + str(check2))\n",
    "    print(\"lambdar = \" + str(check3))\n",
    "    if check1 < check2:\n",
    "        return \"Section is Compact\"\n",
    "    elif check2 < check1 and check1 <= check3: \n",
    "        return \"Section is Non Compact\"        \n",
    "    elif check1 > check3:\n",
    "        return \"Section is slender\"  \n",
    "#W10x68 section\n",
    "# bf = 0.256\n",
    "# tf = 0.012\n",
    "#W12x58\n",
    "bf = 0.254\n",
    "tf = 0.016\n",
    "\n",
    "E = 200000 #MPA\n",
    "fy = 248 #MPa\n",
    "\n",
    "print(checkCompactness(bf,tf,E,tf))\n"
   ]
  },
  {
   "cell_type": "code",
   "execution_count": 12,
   "id": "5158e28d",
   "metadata": {},
   "outputs": [
    {
     "name": "stdout",
     "output_type": "stream",
     "text": [
      "0.1340217645887435\n",
      "6.6984937575468955\n"
     ]
    }
   ],
   "source": [
    "##NSCP 2015 Section 506.2 \n",
    "def RG(I,A):\n",
    "    output = math.sqrt(I/A)\n",
    "    return output \n",
    "ry = RG(1.97e-04,1.09677e-02)\n",
    "print(ry)\n",
    "Lp = 1.76*ry*math.sqrt(E/fy) #r_gra\n",
    "print(Lp)"
   ]
  },
  {
   "cell_type": "code",
   "execution_count": null,
   "id": "90eeedb7",
   "metadata": {},
   "outputs": [],
   "source": []
  },
  {
   "cell_type": "code",
   "execution_count": null,
   "id": "9a4cbe8b",
   "metadata": {},
   "outputs": [],
   "source": [
    "#Lb = distance between braces \n",
    "#Lp = The limiting laterally unbraced length for the limit state of yielding\n",
    "\n",
    "# Lb = 12\n",
    "length = 9000 \n",
    "unbrace_length = length/3 #Lb\n",
    "\n",
    "##When section compact \n",
    "## Zx = plastic section modulus \n",
    "## 1.1 t0 1.3 Shape factor\n",
    "\n",
    "def computeOne():\n",
    "    Mp = Fy*Zx\n",
    "    Zx = 1.1*Fy*Sx "
   ]
  }
 ],
 "metadata": {
  "kernelspec": {
   "display_name": "Python 3 (ipykernel)",
   "language": "python",
   "name": "python3"
  },
  "language_info": {
   "codemirror_mode": {
    "name": "ipython",
    "version": 3
   },
   "file_extension": ".py",
   "mimetype": "text/x-python",
   "name": "python",
   "nbconvert_exporter": "python",
   "pygments_lexer": "ipython3",
   "version": "3.9.13"
  }
 },
 "nbformat": 4,
 "nbformat_minor": 5
}
